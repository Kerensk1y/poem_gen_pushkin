{
  "cells": [
    {
      "cell_type": "code",
      "execution_count": null,
      "metadata": {
        "id": "u0vFgRd4Aaej"
      },
      "outputs": [],
      "source": [
        "!pip install transformers==4.24.0\n",
        "\n",
        "import copy\n",
        "import torch\n",
        "import numpy as np\n",
        "import torch.nn as nn\n",
        "import torch.nn.functional as F\n",
        "import matplotlib.pyplot as plt\n",
        "import seaborn as sns\n",
        "\n",
        "from random import sample\n",
        "from IPython.display import clear_output\n",
        "from torch.utils.data import DataLoader, TensorDataset"
      ]
    },
    {
      "cell_type": "code",
      "execution_count": null,
      "metadata": {
        "colab": {
          "base_uri": "https://localhost:8080/"
        },
        "id": "a5hgR-fFBXkQ",
        "outputId": "8ea31b0e-a85b-481e-ee52-049027a78f78"
      },
      "outputs": [
        {
          "data": {
            "text/plain": [
              "True"
            ]
          },
          "execution_count": 2,
          "metadata": {},
          "output_type": "execute_result"
        }
      ],
      "source": [
        "torch.cuda.is_available()"
      ]
    },
    {
      "cell_type": "markdown",
      "metadata": {
        "id": "s--k6vCDBw7j"
      },
      "source": [
        "# Загрузка данных"
      ]
    },
    {
      "cell_type": "code",
      "execution_count": null,
      "metadata": {
        "colab": {
          "base_uri": "https://localhost:8080/"
        },
        "id": "j-88ANYVBcLB",
        "outputId": "8f5d4a1b-3392-4e19-cf10-b2e8d9158330"
      },
      "outputs": [
        {
          "name": "stdout",
          "output_type": "stream",
          "text": [
            "--2024-04-18 08:57:40--  http://uit.mpei.ru/git/main/TDA/raw/branch/master/assets/poems/pushkin.txt\n",
            "Resolving uit.mpei.ru (uit.mpei.ru)... 193.233.68.149\n",
            "Connecting to uit.mpei.ru (uit.mpei.ru)|193.233.68.149|:80... connected.\n",
            "HTTP request sent, awaiting response... 200 OK\n",
            "Length: 1048627 (1.0M) [text/plain]\n",
            "Saving to: ‘poems.txt’\n",
            "\n",
            "poems.txt           100%[===================>]   1.00M   850KB/s    in 1.2s    \n",
            "\n",
            "2024-04-18 08:57:42 (850 KB/s) - ‘poems.txt’ saved [1048627/1048627]\n",
            "\n"
          ]
        }
      ],
      "source": [
        "!wget -O poems.txt http://uit.mpei.ru/git/main/TDA/raw/branch/master/assets/poems/pushkin.txt"
      ]
    },
    {
      "cell_type": "code",
      "execution_count": null,
      "metadata": {
        "colab": {
          "base_uri": "https://localhost:8080/"
        },
        "id": "Jki26so9Bc4b",
        "outputId": "90dc8290-94e8-40bf-869e-4f31fe711332"
      },
      "outputs": [
        {
          "name": "stdout",
          "output_type": "stream",
          "text": [
            "Количество стихов: 720\n",
            "\n",
            "Пример стиха:\n",
            "\n",
            "Возможно ль? вместо роз, Амуром насажденных,\n",
            "Тюльпанов гордо наклоненных,\n",
            "Душистых ландышей, ясминов и лилей,\n",
            "Которых ты всегда любила\n",
            "И прежде всякой день носила\n",
            "На мраморной груди твоей —\n",
            "Возможно ль, милая Климена,\n",
            "Какая странная во вкусе перемена!..\n",
            "Ты любишь обонять не утренний цветок,\n",
            "А вредную траву зелену,\n",
            "Искусством превращенну\n",
            "В пушистый порошок! —\n",
            "Пускай уже седой профессор Геттингена,\n",
            "На старой кафедре согнувшися дугой,\n",
            "Вперив в латинщину глубокой разум свой,\n",
            "Раскашлявшись, табак толченый\n",
            "Пихает в длинный нос иссохшею рукой;\n",
            "Пускай младой драгун усатый\n",
            "Поутру, сидя у окна,\n",
            "С остатком утреннего сна,\n",
            "Из трубки пенковой дым гонит сероватый;\n",
            "Пускай красавица шестидесяти лет,\n",
            "У Граций в отпуску, и у любви в отставке,\n",
            "Которой держится вся прелесть на подставке,\n",
            "Которой без морщин на теле места нет,\n",
            "Злословит, молится, зевает\n",
            "И с верным табаком печали забывает, —\n",
            "А ты, прелестная!.. но если уж табак\n",
            "Так нравится тебе – о пыл воображенья! —\n",
            "Ах! если, превращенный в прах,\n",
            "И в табакерке, в заточеньи,\n",
            "Я в персты нежные твои попасться мог,\n",
            "Тогда б в сердечном восхищеньи\n",
            "Рассыпался на грудь под шелковый платок\n",
            "И даже… может быть… Но что! мечта пустая.\n",
            "Не будет этого никак.\n",
            "Судьба завистливая, злая!\n",
            "Ах, отчего я не табак!..\n",
            "\n",
            "\n"
          ]
        }
      ],
      "source": [
        "with open(\"poems.txt\") as file:\n",
        "  data = file.read().split(\"</s>\\n\\n\")\n",
        "print(f\"Количество стихов: {len(data)}\\n\", f\"Пример стиха:\\n\\n{data[10]}\",  sep=\"\\n\")"
      ]
    },
    {
      "cell_type": "markdown",
      "metadata": {
        "id": "0jymQbp-C4w6"
      },
      "source": [
        "# Подготовка данных и сводные статистики"
      ]
    },
    {
      "cell_type": "code",
      "execution_count": null,
      "metadata": {
        "colab": {
          "base_uri": "https://localhost:8080/"
        },
        "id": "T5aDMGeUBc_U",
        "outputId": "99c03f71-d069-4b20-e041-8a26f1cdc1de"
      },
      "outputs": [
        {
          "name": "stdout",
          "output_type": "stream",
          "text": [
            "Количество уникальных символов: 143\n",
            "{0: 'PAD', 1: 'EOS', 2: 'м', 3: 'Ж', 4: 'а', 5: 'è', 6: 'П', 7: 'M', 8: 'r', 9: 'a', 10: 'P', 11: '»', 12: 'р', 13: 'д', 14: 'L', 15: 'U', 16: 'И', 17: 'e', 18: 'u', 19: 'â', 20: 'Ф', 21: 'h', 22: 'E', 23: 'ы', 24: 'о', 25: 'ь', 26: '>', 27: 'е', 28: '(', 29: '-', 30: 'г', 31: 'i', 32: 'С', 33: \"'\", 34: 'b', 35: 'у', 36: 'Й', 37: 'Р', 38: '.', 39: '!', 40: '—', 41: 'ç', 42: ' ', 43: 'Ч', 44: 'ф', 45: '?', 46: 'f', 47: 'Э', 48: '„', 49: 'y', 50: 'x', 51: 'щ', 52: 'ю', 53: 'б', 54: 'М', 55: 'Б', 56: 'n', 57: 'T', 58: 'q', 59: 'з', 60: 'Е', 61: 'и', 62: 'ж', 63: 'н', 64: 'A', 65: 't', 66: 'Х', 67: 'û', 68: 'я', 69: 'в', 70: '…', 71: '\"', 72: 'Q', 73: 'B', 74: 's', 75: 'N', 76: '*', 77: 'é', 78: 'л', 79: 'ч', 80: 'Ш', 81: '\\xa0', 82: 'V', 83: 'с', 84: 'Т', 85: 'З', 86: 'H', 87: 'п', 88: 'ê', 89: 'Д', 90: 'I', 91: 'S', 92: ',', 93: 'ё', 94: 'm', 95: 'В', 96: 'l', 97: 'Щ', 98: '–', 99: 'э', 100: 'Ю', 101: ':', 102: 'p', 103: 'й', 104: 'х', 105: 'J', 106: 'D', 107: 'Н', 108: '<', 109: 'ô', 110: '«', 111: 'j', 112: '_', 113: 'Ц', 114: 'А', 115: 'c', 116: 'Z', 117: 'к', 118: '\\n', 119: 'F', 120: 'К', 121: 'R', 122: 'Г', 123: 'v', 124: 'd', 125: 'g', 126: 'т', 127: ')', 128: 'z', 129: ';', 130: 'ъ', 131: 'ц', 132: 'o', 133: 'C', 134: 'à', 135: 'k', 136: 'Я', 137: 'O', 138: 'Л', 139: 'W', 140: 'О', 141: 'ш', 142: 'У'}\n"
          ]
        }
      ],
      "source": [
        "# Составляем словарь уникальных токенов\n",
        "vocab = [\"PAD\", \"EOS\",] + list(set(\"\".join(data))) #список уникальных символов.\n",
        "\n",
        "# Формируем два словаря, реализующие перевод символов в их индексы и обратно\n",
        "id2char = dict(enumerate(vocab)) # словарь индексов в символы\n",
        "char2id = {char: ind for ind, char in id2char.items()} # словарь символов в индексы\n",
        "print(f\"Количество уникальных символов: {len(vocab)}\", id2char, sep=\"\\n\")"
      ]
    },
    {
      "cell_type": "code",
      "execution_count": null,
      "metadata": {
        "colab": {
          "base_uri": "https://localhost:8080/"
        },
        "id": "6_bqNMYmCvGI",
        "outputId": "ec615ff7-65ba-424a-f371-2ffaf0e70d33"
      },
      "outputs": [
        {
          "name": "stdout",
          "output_type": "stream",
          "text": [
            "Максимальная длина текста:  8948\n"
          ]
        }
      ],
      "source": [
        "lengths = list(map(len, data))\n",
        "print(\"Максимальная длина текста: \", max(lengths))"
      ]
    },
    {
      "cell_type": "code",
      "execution_count": null,
      "metadata": {
        "colab": {
          "base_uri": "https://localhost:8080/",
          "height": 508
        },
        "id": "HrVUV7GEC7-I",
        "outputId": "2e766f22-acfc-47da-a447-9396d17c4fed"
      },
      "outputs": [
        {
          "data": {
            "text/plain": [
              "[Text(0.5, 0, 'Длина текста в символах'),\n",
              " Text(0.5, 1.0, 'Гистограмма длин текстов')]"
            ]
          },
          "execution_count": 7,
          "metadata": {},
          "output_type": "execute_result"
        },
        {
          "data": {
            "image/png": "[encoded data removed]",
            "text/plain": [
              "<Figure size 640x480 with 1 Axes>"
            ]
          },
          "metadata": {},
          "output_type": "display_data"
        }
      ],
      "source": [
        "sns.set_style(\"ticks\",{'axes.grid' : True})\n",
        "ax = sns.histplot(lengths, bins=30)\n",
        "ax.set(xlabel=\"Длина текста в символах\", title=\"Гистограмма длин текстов\")"
      ]
    },
    {
      "cell_type": "code",
      "execution_count": null,
      "metadata": {
        "colab": {
          "base_uri": "https://localhost:8080/"
        },
        "id": "xTtjsKlvC8Pm",
        "outputId": "b609d960-81dd-4e81-c39d-18f97e4d9471"
      },
      "outputs": [
        {
          "name": "stdout",
          "output_type": "stream",
          "text": [
            "Средняя длина 808.9125\n",
            "Медиана длины 453.5\n",
            "Мода длины 221\n"
          ]
        }
      ],
      "source": [
        "lengths = np.array(lengths)\n",
        "print(\"Средняя длина\", np.mean(lengths))\n",
        "print(\"Медиана длины\", np.median(lengths))\n",
        "print(\"Мода длины\", np.bincount(lengths).argmax())"
      ]
    },
    {
      "cell_type": "markdown",
      "metadata": {
        "id": "CtS4tMlJC8xh"
      },
      "source": [
        "Где можно будет использовать знание о параметрах распределения длин в выборке?\n",
        "\n",
        "Зная рапределение длин текстов в выборке можем подбирать параметр max_new_tokens, который будет отвечать за то, сколько новых будет сгенерировано моделью. Например, мы видим, что вероятность того, что случайно выбранный стих имеет длину больше 2000 символов довольно мала, следовательно, можем ограничиться этим параметром при генерации новых стихотворений."
      ]
    },
    {
      "cell_type": "code",
      "execution_count": null,
      "metadata": {
        "id": "RM8ehvJjE8qx"
      },
      "outputs": [],
      "source": [
        "MAXLEN = 2048"
      ]
    },
    {
      "cell_type": "markdown",
      "metadata": {
        "id": "vrayWObxE-33"
      },
      "source": [
        "# Преобразование данных\n",
        "\n",
        "Создадим функцию для преобразования текста в вектора одинакового размера для подачи в нейросеть. В этой функции добавляется токен EOS - конец последовательности. Если текст короче заданной длины, то добавляется специальный токен PAD. Если текст больше заданной длины, то он обрезается."
      ]
    },
    {
      "cell_type": "code",
      "execution_count": null,
      "metadata": {
        "id": "41_l4U5mFA4i"
      },
      "outputs": [],
      "source": [
        "line_ix = [char2id[c] for c in data[5][:512]]"
      ]
    },
    {
      "cell_type": "code",
      "execution_count": null,
      "metadata": {
        "id": "Vvj3DV7tFbaU"
      },
      "outputs": [],
      "source": [
        "data_ix = np.zeros([len(data[5]), 512], 'int64')\n",
        "data_ix[5, :len(line_ix)] = line_ix"
      ]
    },
    {
      "cell_type": "code",
      "execution_count": null,
      "metadata": {
        "colab": {
          "base_uri": "https://localhost:8080/"
        },
        "id": "A1E-3MnYFsFY",
        "outputId": "203c33d8-bb67-4d3e-a2e8-e4ab637425a9"
      },
      "outputs": [
        {
          "name": "stdout",
          "output_type": "stream",
          "text": [
            "[0 0 0 ... 0 0 0]\n"
          ]
        }
      ],
      "source": [
        "data_ix = np.transpose(data_ix)\n",
        "print(data_ix[5])"
      ]
    },
    {
      "cell_type": "code",
      "execution_count": null,
      "metadata": {
        "id": "qpGRIjB5GMoe"
      },
      "outputs": [],
      "source": [
        "def to_matrix(data, char2id, max_len=None, dtype='int64', batch_first=True):\n",
        "    max_len = max_len if max_len else max(map(len, data))\n",
        "    data = [text[:max_len] + \" EOS\" for text in data]\n",
        "    data_ix = np.zeros([len(data), max_len], dtype)\n",
        "\n",
        "    for i in range(len(data)):\n",
        "        line_ix = [char2id[c] for c in data[i][:max_len]]\n",
        "        data_ix[i, :len(line_ix)] = line_ix\n",
        "\n",
        "    if not batch_first: # convert [batch, time] into [time, batch]\n",
        "        data_ix = np.transpose(data_ix)\n",
        "\n",
        "    return data_ix"
      ]
    },
    {
      "cell_type": "code",
      "execution_count": null,
      "metadata": {
        "colab": {
          "base_uri": "https://localhost:8080/"
        },
        "id": "mLFH89s2Gv1p",
        "outputId": "e7d91845-5707-4b64-b09c-9fb222184d95"
      },
      "outputs": [
        {
          "name": "stdout",
          "output_type": "stream",
          "text": [
            "Исходный текст:\n",
            " Так и мне узнать случилось,\n",
            "Что за птица Купидон;\n",
            "Сердце страстное пленилось;\n",
            "Признаюсь – и я влюблен!\n",
            "Пролетело счастья время,\n",
            "Как, любви не зная бремя,\n",
            "Я живал да попевал,\n",
            "Как в театре и на балах,\n",
            "На гуляньях иль в воксалах\n",
            "Легким зефиром летал;\n",
            "Как, смеясь во зло Амуру,\n",
            "Я писал карикатуру\n",
            "На любезный женской пол;\n",
            "Но напрасно я смеялся,\n",
            "Наконец и сам попался,\n",
            "Сам, увы! с ума сошел.\n",
            "Смехи, вольность – всё под лавку\n",
            "Из Катонов я в отставку,\n",
            "И теперь я – Селадон!\n",
            "Миловидной жрицы Тальи\n",
            "Видел прелести Натальи,\n",
            "И уж в сердце – Купидон!\n",
            "\n",
            "Так, Наталья! признаюся,\n",
            "Я тобою полонен,\n",
            "В первый раз еще, стыжуся,\n",
            "В женски прелести влюблен.\n",
            "Целый день, как ни верчуся\n",
            "Лишь тобою занят я;\n",
            "Ночь придет – и лишь тебя\n",
            "Вижу я в пустом мечтаньи,\n",
            "Вижу, в легком одеяньи\n",
            "Будто милая со мной;\n",
            "Робко, сладостно дыханье,\n",
            "Белой груди колебанье,\n",
            "Снег затмивший белизной,\n",
            "И полуотверсты очи,\n",
            "Скромный мрак безмолвной ночи —\n",
            "Дух в восторг приводят мой!..\n",
            "Я один в беседке с нею,\n",
            "Вижу… девственну лилею,\n",
            "Трепещу, томлюсь, немею…\n",
            "И проснулся… вижу мрак\n",
            "Вкруг постели одинокой!\n",
            "Испускаю вздох глубокой,\n",
            "Сон ленивый, томноокой\n",
            "Отлетает на крылах.\n",
            "Страсть сильнее становится\n",
            "И, любовью утомясь,\n",
            "Я слабею всякой час.\n",
            "Всё к чему-то ум стремится,\n",
            "А к чему? – никто из нас\n",
            "Дамам в слух того не скажет,\n",
            "А уж так и сяк размажет.\n",
            "Я – по-свойски объяснюсь.\n",
            "\n",
            "Все любовники желают\n",
            "И того, чего не знают;\n",
            "Это свойство их – дивлюсь!\n",
            "Завернувшись балахоном,\n",
            "С хватской шапкой на бекрень\n",
            "Я желал бы Филимоном\n",
            "Под вечер, как всюду тень,\n",
            "Взяв Анюты нежну руку,\n",
            "Изъяснять любовну муку,\n",
            "Говорить: она моя!\n",
            "Я желал бы, чтоб Назорой\n",
            "Ты старалася меня\n",
            "Удержать умильным взором.\n",
            "Иль седым Опекуном\n",
            "Легкой, миленькой Розины,\n",
            "Старым пасынком судьбины,\n",
            "В епанче и с париком,\n",
            "Дерзкой пламенной рукою\n",
            "Белоснежну, полну грудь…\n",
            "Я желал бы… да ногою\n",
            "Моря не перешагнуть.\n",
            "И, хоть по уши влюбленный,\n",
            "Но с тобою разлученный,\n",
            "Всей надежды я лишен.\n",
            "\n",
            "Но, Наталья! ты не знаешь\n",
            "Кто твой нежный Селадон,\n",
            "Ты еще не понимаешь,\n",
            "Отчего не смеет он\n",
            "И надеяться? – Наталья!\n",
            "Выслушай еще меня:\n",
            "\n",
            "Не владетель я Сераля,\n",
            "Не арап, не турок я.\n",
            "За учтивого китайца,\n",
            "Грубого американца\n",
            "Почитать меня нельзя,\n",
            "Не представь и немчурою,\n",
            "С колпаком на волосах,\n",
            "С кружкой, пивом налитою,\n",
            "И с цыгаркою в зубах.\n",
            "Не представь кавалергарда\n",
            "В каске, с длинным палашом.\n",
            "Не люблю я бранный гром:\n",
            "Шпага, сабля, алебарда\n",
            "Не тягчат моей руки\n",
            "За Адамовы грехи.\n",
            "\n",
            "– Кто же ты, болтун влюбленный?\n",
            "Взглянь на стены возвышенны,\n",
            "Где безмолвья вечный мрак;\n",
            "Взглянь на окны загражденны,\n",
            "На лампады там зажженны…\n",
            "Знай, Наталья! – я… монах!\n",
            "\n",
            "\n",
            "Преобразованный текст:\n",
            " [ 84   4 117 ...  68  92 118]\n"
          ]
        }
      ],
      "source": [
        "# Проверяем работу функции - кодируем один из текстов и смотрим как он выглядит в кодированном виде\n",
        "encode = to_matrix(data[:1], char2id, MAXLEN)\n",
        "print(\"Исходный текст:\\n\", data[0])\n",
        "print(\"Преобразованный текст:\\n\", encode[0])"
      ]
    },
    {
      "cell_type": "markdown",
      "metadata": {
        "id": "w7H-4Zk8G1UN"
      },
      "source": [
        "Пояснить, что хранится в переменной encode.\n",
        "\n",
        "Как будет выглядеть ваша фамилия в кодированном виде?\n",
        "\n",
        "В переменной encode хранятся id Токенов для каждого текста в выборке. Вектора, соответсвующие текстам, длина которых меньше значения MAXLEN будут дополнены нулями с правой стороны. Вектора для длинных текстов будут обрезаны также до значения MAXLEN. Стоит отметить, что в закодированных текстах также присутствует служебный токен EOS, означающий конец последовательности."
      ]
    },
    {
      "cell_type": "code",
      "execution_count": null,
      "metadata": {
        "colab": {
          "base_uri": "https://localhost:8080/"
        },
        "id": "wb2v-Z8TG-sX",
        "outputId": "ef78650f-0b76-48bd-a6b1-c103ea60198c"
      },
      "outputs": [
        {
          "name": "stdout",
          "output_type": "stream",
          "text": [
            "Фамилия: Романов\n",
            "Фамилия в закодированном виде: [[ 37  24   2   4  63  24  69  42  22 137  91   0   0   0   0]]\n"
          ]
        }
      ],
      "source": [
        "surname = 'Романов'\n",
        "\n",
        "encoded_surname = to_matrix([surname], char2id, 15)\n",
        "print(\"Фамилия:\", surname)\n",
        "print(\"Фамилия в закодированном виде:\", encoded_surname)"
      ]
    },
    {
      "cell_type": "markdown",
      "metadata": {
        "id": "J9bFy7WqH7Mt"
      },
      "source": [
        "# Подготовка нейросети"
      ]
    },
    {
      "cell_type": "code",
      "execution_count": null,
      "metadata": {
        "id": "ylM9AdqYI87H"
      },
      "outputs": [],
      "source": [
        "num_embeddings = len(vocab) # количество эмбеддингов должно соответствовать длине словаря\n",
        "embedding_dim = 32 # определяется размерность эмбеддинга\n",
        "emb = nn.Embedding(num_embeddings, embedding_dim) # Определяем объект emb как слой эмбеддингов заданного размера"
      ]
    },
    {
      "cell_type": "markdown",
      "metadata": {
        "id": "c-RVl5voKA4v"
      },
      "source": [
        "\n",
        "Почему количество эмбеддингов должно соответствовать длине словаря?\n",
        "\n",
        "Количество эмбеддингов в слое nn.Embeddings должно соответствовать длине словаря потому что при условии, что эмбеддинги будут заданы не для всех токенов в словаре, следовательно, при обработке таких out-of-vocabulary токенов мы должны будет их пропустить, возможно теряя существенную долю информации в тексте. Делать количество эмбеддингов больше размера словаря бессмысленно, так как несколько эмбеддингов будут использоваться напрасно"
      ]
    },
    {
      "cell_type": "code",
      "execution_count": null,
      "metadata": {
        "colab": {
          "base_uri": "https://localhost:8080/"
        },
        "id": "5yeVmnIkKGNH",
        "outputId": "369082bb-b93a-45d6-feb1-2fb7123cebd3"
      },
      "outputs": [
        {
          "name": "stdout",
          "output_type": "stream",
          "text": [
            "Размер тензора: torch.Size([5, 32])\n",
            "\n",
            "tensor([[ 8.3950e-01, -1.0583e+00,  6.2628e-02, -1.0910e+00,  1.2748e+00,\n",
            "          5.4397e-01, -9.4438e-01, -2.0085e+00, -1.5671e+00, -8.8992e-01,\n",
            "          1.3883e-04,  1.0571e+00, -2.6006e+00, -8.5716e-02, -1.3742e+00,\n",
            "          3.1706e-01,  9.3143e-02, -5.8502e-01,  1.0687e+00, -1.1840e+00,\n",
            "         -1.4423e+00, -1.7842e+00,  9.1691e-03, -6.7341e-01, -1.5817e+00,\n",
            "          9.7128e-02, -1.7457e+00, -3.0980e-01, -1.7359e+00, -1.0497e+00,\n",
            "         -7.0785e-01, -5.4667e-01],\n",
            "        [ 7.0161e-01, -1.1722e+00,  5.5565e-01,  2.1674e-01,  2.3868e+00,\n",
            "          1.4163e-01,  5.0061e-01,  7.8515e-01,  6.0405e-01,  8.5890e-02,\n",
            "          9.5379e-01,  5.8082e-01,  3.6135e-01,  3.7380e-01,  8.3612e-01,\n",
            "         -9.9371e-01, -1.6970e+00, -2.1279e-01,  1.1816e+00,  1.2495e+00,\n",
            "          7.2654e-01, -9.9383e-02, -6.9373e-01,  4.6161e-01, -1.1816e+00,\n",
            "         -1.7473e+00, -1.8474e-01,  1.0071e+00,  1.4271e+00,  2.2667e-01,\n",
            "          8.3318e-01, -1.5369e-02],\n",
            "        [-6.6814e-01,  9.6289e-01,  2.4418e-02, -1.1377e+00, -1.8334e+00,\n",
            "          7.4781e-01, -6.8906e-01,  1.0531e+00,  1.1336e+00,  5.4720e-02,\n",
            "         -1.1861e-01, -3.6799e-01, -8.5436e-01, -5.1427e-01,  4.1257e-01,\n",
            "         -1.1606e+00,  1.4522e+00,  2.2121e+00,  1.8857e+00, -9.4614e-03,\n",
            "         -1.0317e+00,  7.1378e-01, -6.4604e-02,  4.0270e-01,  4.8660e-02,\n",
            "         -1.5342e+00, -7.8337e-01, -1.9913e-01,  1.4132e-01,  8.7446e-01,\n",
            "          2.3551e-02, -1.0321e+00],\n",
            "        [-3.6944e-02,  1.2628e+00,  6.4147e-01, -5.6121e-01, -1.6422e+00,\n",
            "          8.9173e-01,  4.7238e-01, -8.5638e-01,  3.9163e-02, -8.1214e-02,\n",
            "          3.3222e-01, -1.1816e+00,  6.6855e-02, -2.1820e-01,  3.7665e-02,\n",
            "          7.5885e-01, -1.1118e-01,  9.9643e-01,  4.7882e-01,  2.2187e-02,\n",
            "          2.1181e-02,  1.3725e+00,  1.6521e-01, -1.1266e+00,  2.1371e-01,\n",
            "         -2.6316e+00,  6.2753e-01,  2.0568e-01,  1.1021e+00,  9.4774e-01,\n",
            "         -1.3372e+00, -1.7127e-01],\n",
            "        [ 1.2133e-01,  1.0032e-01,  3.6408e-01, -4.4705e-01, -6.6998e-01,\n",
            "          7.8308e-01, -8.1353e-01,  3.9638e-01,  7.5714e-01,  4.4710e-01,\n",
            "          5.9216e-01, -1.4568e+00, -2.8364e-01, -1.2752e+00, -4.5284e-01,\n",
            "          8.9466e-01, -5.0373e-01, -4.5982e-01,  1.6943e+00,  6.5782e-01,\n",
            "         -8.1800e-01,  2.9274e-01,  2.5589e-01, -7.2539e-01, -1.3131e+00,\n",
            "          8.2550e-01,  2.6238e-01,  1.3117e+00,  6.8928e-01,  1.7901e+00,\n",
            "          7.2168e-01, -1.7914e+00]], grad_fn=<EmbeddingBackward0>)\n"
          ]
        }
      ],
      "source": [
        "emb_out = emb(torch.tensor(encode[0][:5]))\n",
        "print(f\"Размер тензора: {emb_out.shape}\\n\")\n",
        "print(emb_out)"
      ]
    },
    {
      "cell_type": "markdown",
      "metadata": {
        "id": "lL5o0zdNLyVZ"
      },
      "source": [
        "Пояснить, почему получен такой размер emb_out?\n",
        "\n",
        "Потому что мы кодировали 5 токенов, размерность каждого эмбеддинга - 32 элемента"
      ]
    },
    {
      "cell_type": "markdown",
      "metadata": {
        "id": "2aCIfp03MUgN"
      },
      "source": [
        "# Создадим ячейку GRU"
      ]
    },
    {
      "cell_type": "markdown",
      "metadata": {
        "id": "0xC7k1JMMkVD"
      },
      "source": [
        "Обратиться к документации к nn.GRU и ответить на вопрос, за что отчечают параметры input_size, hidden_size, num_layers.\n",
        "\n",
        "input_size - размерность ожидаемого входного вектора \\\n",
        "hidden_size - размерность латентного пространства \\\n",
        "num_layers - количество GRU ячеек, которые будут расположены последовательно друг за другом"
      ]
    },
    {
      "cell_type": "code",
      "execution_count": null,
      "metadata": {
        "colab": {
          "base_uri": "https://localhost:8080/"
        },
        "id": "h7CkOHEtOdZC",
        "outputId": "6bfd9e0e-eb7a-4859-e892-6b8e43effd2b"
      },
      "outputs": [
        {
          "name": "stdout",
          "output_type": "stream",
          "text": [
            "Размер output: torch.Size([5, 64])\n",
            "Размер h_n: torch.Size([3, 64])\n"
          ]
        }
      ],
      "source": [
        "# Определяем ячейку GRU в переменной gru, предварительно задав рамерность скрытого состояния и количество рекуррентных слоев\n",
        "input_size = emb.embedding_dim # вход в GRU должен соответствовать размеру эмбеддинга\n",
        "hidden_size = 64\n",
        "num_layers = 3\n",
        "gru = nn.GRU(input_size, hidden_size, num_layers)\n",
        "output, h_n = gru(emb_out)\n",
        "print(\"Размер output:\", output.shape)\n",
        "print(\"Размер h_n:\", h_n.shape)"
      ]
    },
    {
      "cell_type": "code",
      "execution_count": null,
      "metadata": {
        "colab": {
          "base_uri": "https://localhost:8080/"
        },
        "id": "ms8LNTKDPNlB",
        "outputId": "50592bb1-e415-4bff-9093-a245187d5413"
      },
      "outputs": [
        {
          "name": "stdout",
          "output_type": "stream",
          "text": [
            "Размер выходного слоя из нейросети:  torch.Size([5, 143])\n"
          ]
        }
      ],
      "source": [
        "in_features = gru.hidden_size\n",
        "out_features = len(vocab) #предсказываем букву из всего словаря\n",
        "linear = nn.Linear(in_features, out_features) # Определяем линейный слой. Почему заданы такие входные и выходные параметры для него?\n",
        "linear_out = linear(output) # output - выход GRU\n",
        "print(\"Размер выходного слоя из нейросети: \", linear_out.shape)"
      ]
    },
    {
      "cell_type": "markdown",
      "metadata": {
        "id": "-T1xubTJQZC8"
      },
      "source": [
        "Что содержится в векторе linear_out?\n",
        "\n",
        "Определить индекс символа, который наиболее вероятно выдаст ячейка GRU на первом шаге?\n",
        "\n",
        "В векторе linear_out хранятся логиты токенов. Наиболее вероятный следующий токен можем определить, используя np.argmax()."
      ]
    },
    {
      "cell_type": "code",
      "execution_count": null,
      "metadata": {
        "colab": {
          "base_uri": "https://localhost:8080/"
        },
        "id": "MXPHiyiZQvnm",
        "outputId": "f2f62adb-6b79-449c-8c41-cdeffdc5e55e"
      },
      "outputs": [
        {
          "data": {
            "text/plain": [
              "35"
            ]
          },
          "execution_count": 20,
          "metadata": {},
          "output_type": "execute_result"
        }
      ],
      "source": [
        "torch.argmax(linear_out[-1]).item()    # наиболее вероятный токен под индексом 100"
      ]
    },
    {
      "cell_type": "code",
      "execution_count": null,
      "metadata": {
        "id": "Hcl-gjsPRuQv"
      },
      "outputs": [],
      "source": [
        "class CharGRULoop(nn.Module): # Описываем инициализатор класса.\n",
        "    def __init__(self, num_embeddings=52, embedding_dim=16, hidden_size=64, num_layers=1): # В методе __init__ определим архитектуру модели, создав необходимые слои\n",
        "        super(self.__class__, self).__init__()\n",
        "        self.emb = nn.Embedding(num_embeddings, embedding_dim)\n",
        "        self.gru = nn.GRU(embedding_dim, hidden_size, num_layers, batch_first=True)\n",
        "        self.hid_to_logits = nn.Linear(hidden_size, num_embeddings)\n",
        "\n",
        "    def forward(self, x, hid_state): # Здесь описываем стурктуру сети - как сигнал должен по ней проходить\n",
        "        x = self.emb(x) # Проходим через эмбеддинг-слой\n",
        "        if hid_state is not None: # Проходим через GRU, сохраняя hidden state\n",
        "            h_seq, hid_state = self.gru(x, hid_state)\n",
        "        else:\n",
        "            h_seq, hid_state = self.gru(x)\n",
        "        next_logits = self.hid_to_logits(h_seq) # проходим через полносвязный слой\n",
        "        next_logp = F.log_softmax(next_logits, dim=-1) # Используем функцию softmax\n",
        "        return next_logp, hid_state"
      ]
    },
    {
      "cell_type": "code",
      "execution_count": null,
      "metadata": {
        "id": "pxZyXrFsScoH"
      },
      "outputs": [],
      "source": [
        "model = CharGRULoop(num_embeddings=len(vocab), embedding_dim=64, hidden_size=192, num_layers=3)"
      ]
    },
    {
      "cell_type": "code",
      "execution_count": null,
      "metadata": {
        "id": "z46htM9ySoBz"
      },
      "outputs": [],
      "source": [
        "!pip -q install torchinfo"
      ]
    },
    {
      "cell_type": "code",
      "execution_count": null,
      "metadata": {
        "colab": {
          "base_uri": "https://localhost:8080/"
        },
        "id": "G6FURvUQSpMP",
        "outputId": "f12b3727-5824-47f5-80a8-0049ac6df970"
      },
      "outputs": [
        {
          "data": {
            "text/plain": [
              "=================================================================\n",
              "Layer (type:depth-idx)                   Param #\n",
              "=================================================================\n",
              "CharGRULoop                              --\n",
              "├─Embedding: 1-1                         9,152\n",
              "├─GRU: 1-2                               593,280\n",
              "├─Linear: 1-3                            27,599\n",
              "=================================================================\n",
              "Total params: 630,031\n",
              "Trainable params: 630,031\n",
              "Non-trainable params: 0\n",
              "================================================================="
            ]
          },
          "execution_count": 24,
          "metadata": {},
          "output_type": "execute_result"
        }
      ],
      "source": [
        "from torchinfo import summary\n",
        "\n",
        "summary(model)"
      ]
    },
    {
      "cell_type": "code",
      "execution_count": null,
      "metadata": {
        "id": "i1P6rOznSqri"
      },
      "outputs": [],
      "source": [
        "def generate_sample(model, char2id, id2char, seed_phrase=' ', strategy=\"greedy\", max_length=100, temperature=1.0):\n",
        "    \"\"\"\n",
        "      model - нейросеть\n",
        "      char2id - словарь преобразования букв в их индексы\n",
        "      id2char - словарь преобразования индексов в буквы\n",
        "      seed_phrase - начальная фраза для генерации\n",
        "      strategy - стратегия генерации (жадная \"greedy\" или сэмплирование \"sample\")\n",
        "      max_length - максимальная длина сгенирированного текста\n",
        "      temperature - ???\n",
        "    \"\"\"\n",
        "\n",
        "    x_sequence = [char2id[token] for token in seed_phrase] # кодируем начальную фразу\n",
        "    x_sequence = torch.tensor([x_sequence], dtype=torch.int64) # создаем тензор\n",
        "    hid_state = None # задаем тензор скрытого состояния h_n, при такой подачи вектор заполнится нулями\n",
        "\n",
        "    with torch.no_grad(): # отключаем подсчет градиентов, поскольку сеть уже обучена и не нужно проводить обратное распространение ошибки\n",
        "      for i in range(len(seed_phrase) - 1): # подаем номер буквы и hid_state в цикле\n",
        "          _, hid_state = model(x_sequence[:, i].unsqueeze(0), hid_state)\n",
        "\n",
        "      # начинаем генерацию\n",
        "      sequence = ''\n",
        "      for _ in range(max_length - len(seed_phrase)):\n",
        "\n",
        "          logp_next, hid_state = model(x_sequence[:, -1].unsqueeze(0), hid_state) # подаем последнюю букву из фразы\n",
        "          p_next = F.softmax(logp_next / temperature, dim=-1).data.numpy()[0] # нормируем выходы модели на температуру и применяем софтмакс\n",
        "\n",
        "          if strategy == \"greedy\": next_ix = p_next.argmax() #берем токен с максимальной вероятностью\n",
        "          elif strategy == \"sample\": next_ix = np.random.choice(len(id2char), p=p_next[0]) #получаем следующий токен сэмплированием с вероятностями\n",
        "          else: raise ValueError('Хулиган, не делай так! Выбери \"greedy\" или \"sample\"')\n",
        "\n",
        "          if id2char[next_ix] == \"EOS\":\n",
        "            break # если получили токен EOS, то прекращаем генерацию\n",
        "          else:\n",
        "            sequence += id2char[next_ix]\n",
        "            next_ix = torch.tensor([[next_ix]], dtype=torch.int64) # создаем тензор следующий буквы\n",
        "            x_sequence = torch.cat([x_sequence, next_ix], dim=1) # добавляем предсказанный токен в конец последовательности\n",
        "\n",
        "            if sequence[-3:] == 'EOS':\n",
        "                return seed_phrase + sequence[-3:]\n",
        "    return seed_phrase + sequence\n",
        "    # return ''.join([id2char[ix] for ix in x_sequence.data.numpy()[0]]) # возвращаем декодированную строку"
      ]
    },
    {
      "cell_type": "markdown",
      "metadata": {
        "id": "etTuT1tLT8-L"
      },
      "source": [
        "Выполните следующую ячейку несколько раз с одной и той же SEED_PHRASE, запомните выводы модели и объясните результат - чем отличается стратегия greedy от sample?"
      ]
    },
    {
      "cell_type": "code",
      "execution_count": null,
      "metadata": {
        "colab": {
          "base_uri": "https://localhost:8080/"
        },
        "id": "f-BKgHTuT4qF",
        "outputId": "2bc755e8-6aea-4fb6-fb27-015ad5af77eb"
      },
      "outputs": [
        {
          "name": "stdout",
          "output_type": "stream",
          "text": [
            "Сколько раз я говорил\n",
            "hMMMшшшUUГ))))))zMMшшшДДДçЗЗMMMM–––––шшшбДДДЗЗMMMM–––––шшшбДДДЗЗMMMM–––––шшшбД\n",
            "\n",
            "Сколько раз я говорил\n",
            "ЙрBbпr'PЧàbтh;р'keхSPADUЯqâмIТуСsçС«шаèQ!ззe–цqеyvрЩTâ–ё„jjцяпte.КADlУЖМчЕяnш„ЖЛ\n"
          ]
        }
      ],
      "source": [
        "SEED_PHRASE = 'Сколько раз я говорил\\n'\n",
        "print(generate_sample(model, char2id, id2char, seed_phrase=SEED_PHRASE, strategy=\"greedy\", max_length=100))\n",
        "print()\n",
        "print(generate_sample(model, char2id, id2char, seed_phrase=SEED_PHRASE, strategy=\"sample\", max_length=100))"
      ]
    },
    {
      "cell_type": "code",
      "execution_count": null,
      "metadata": {
        "id": "pfwxa0L_UOwL"
      },
      "outputs": [],
      "source": [
        "from sklearn.model_selection import train_test_split\n",
        "\n",
        "batch = 128 # Тексты, для уменьшения накладных расходов, будем подавать на вход модели \"батчами\" - блоками по 128 документов\n",
        "\n",
        "train, test = train_test_split(data, test_size=0.2, random_state=42, shuffle=True)\n",
        "\n",
        "dataset_train = TensorDataset(torch.tensor(to_matrix(train, char2id, max_len=MAXLEN)))\n",
        "dataloader_train = DataLoader(dataset_train, batch_size=batch, shuffle=True)\n",
        "\n",
        "dataset_test = TensorDataset(torch.tensor(to_matrix(test, char2id, max_len=MAXLEN)))\n",
        "dataloader_test = DataLoader(dataset_test, batch_size=batch, shuffle=False)"
      ]
    },
    {
      "cell_type": "code",
      "execution_count": null,
      "metadata": {
        "colab": {
          "base_uri": "https://localhost:8080/"
        },
        "id": "rbSRN15HUbqP",
        "outputId": "4f820808-2e3f-45c7-94e8-b01881d42aff"
      },
      "outputs": [
        {
          "data": {
            "text/plain": [
              "=================================================================\n",
              "Layer (type:depth-idx)                   Param #\n",
              "=================================================================\n",
              "CharGRULoop                              --\n",
              "├─Embedding: 1-1                         9,152\n",
              "├─GRU: 1-2                               593,280\n",
              "├─Linear: 1-3                            27,599\n",
              "=================================================================\n",
              "Total params: 630,031\n",
              "Trainable params: 630,031\n",
              "Non-trainable params: 0\n",
              "================================================================="
            ]
          },
          "execution_count": 28,
          "metadata": {},
          "output_type": "execute_result"
        }
      ],
      "source": [
        "model = CharGRULoop(num_embeddings=len(vocab), embedding_dim=64, hidden_size=192, num_layers=3)\n",
        "optimizer = torch.optim.Adam(model.parameters(), lr=0.001)\n",
        "loss_fn = nn.NLLLoss(ignore_index=char2id[\"PAD\"])\n",
        "# Функция потерь - negative log likelihood loss (NLL Loss) - используеся для задачи многоклассовой классификации в ситуации, когда имеются логарифмы вероятностей каждого класса\n",
        "# NLL Loss эквивалентен CrossEntropyLoss, но применяется к логарифмам вероятностей - у нас на выходе линейного слоя как раз исопользуется функция softmax\n",
        "\n",
        "summary(model)"
      ]
    },
    {
      "cell_type": "code",
      "execution_count": null,
      "metadata": {
        "colab": {
          "base_uri": "https://localhost:8080/"
        },
        "id": "h2XXD0FqUnUD",
        "outputId": "62431c19-8d2c-4a61-abcb-c299fb7721ac"
      },
      "outputs": [
        {
          "name": "stdout",
          "output_type": "stream",
          "text": [
            "perplexity:  144.56884765625\n"
          ]
        }
      ],
      "source": [
        "example = torch.tensor(to_matrix(train[:1], char2id, max_len=MAXLEN)) # Возьмем первый документ и попробуем сгененировать этот же текст начиная с первой буквы\n",
        "\n",
        "train_example = example[:, :-1]\n",
        "target_example = example[:, 1:]\n",
        "\n",
        "next_logp, hid_state = model(train_example, hid_state=None)\n",
        "\n",
        "print('perplexity: ', torch.exp(loss_fn(next_logp.permute(0, 2, 1), target_example)).item())"
      ]
    },
    {
      "cell_type": "code",
      "execution_count": null,
      "metadata": {
        "id": "VfV8PKRbUvgX"
      },
      "outputs": [],
      "source": [
        "device = torch.device(\"cuda\") if torch.cuda.is_available() else torch.device(\"cpu\")\n",
        "torch.cuda.empty_cache()"
      ]
    },
    {
      "cell_type": "code",
      "execution_count": null,
      "metadata": {
        "colab": {
          "base_uri": "https://localhost:8080/",
          "height": 430
        },
        "id": "AVeGDMnzU0Tu",
        "outputId": "40fededd-3f73-4939-81c4-4377202ef177"
      },
      "outputs": [
        {
          "data": {
            "image/png": "[encoded data removed]",
            "text/plain": [
              "<Figure size 640x480 with 1 Axes>"
            ]
          },
          "metadata": {},
          "output_type": "display_data"
        }
      ],
      "source": [
        "EPOCH = 200 # количество эпох обучения\n",
        "history_train = [] # список значений лосса трейна на каждой эпохи\n",
        "history_test = [] # список значений лосса теста на каждой эпохи\n",
        "model.to(device) # И модель, и данные должны находиться на одном устройстве.\n",
        "                 # Поэтому при работе с GPU нужно следить и явно указывать, на каком устройстве проводится работа.\n",
        "\n",
        "\n",
        "best_test_loss = float(\"inf\")\n",
        "for i in range(EPOCH): #цикл по эпохам\n",
        "  loss_test = 0\n",
        "  loss_train = 0\n",
        "\n",
        "  for batch in dataloader_train: #цикл по тренировачным батчам\n",
        "\n",
        "    optimizer.zero_grad() #обнуляем градиенты\n",
        "    batch_ix = torch.tensor(batch[0], dtype=torch.int64).to(device) #делаем из батча тензор\n",
        "\n",
        "    predictions_logp, _ = model(batch_ix[:, :-1], hid_state=None) #подаем батч в модель\n",
        "\n",
        "    actual_next_tokens = batch_ix[:, 1:] # таргеры\n",
        "\n",
        "    loss = loss_fn(predictions_logp.permute(0, 2, 1), actual_next_tokens.long()) # считаем лосс на батче\n",
        "    loss_train += loss.item() # добавляем лосс с батча в суммарный лосс\n",
        "\n",
        "    loss.backward() # делаем обратный проход\n",
        "    optimizer.step() # делаем шаг оптимизатором\n",
        "\n",
        "  history_train.append(loss_train/len(dataloader_train)) # добавляем  средний лосс за эпоху в список\n",
        "\n",
        "  for batch in dataloader_test: #цикл по тестовым батчам\n",
        "    with torch.no_grad(): # отключаем подсчет градиентов\n",
        "\n",
        "      batch_ix = torch.tensor(batch[0], dtype=torch.int64).to(device)\n",
        "      predictions_logp, _ = model(batch_ix[:, :-1], hid_state=None)\n",
        "\n",
        "      actual_next_tokens = batch_ix[:, 1:]\n",
        "\n",
        "      loss = loss_fn(predictions_logp.permute(0, 2, 1), actual_next_tokens.long())\n",
        "      loss_test += loss.item()\n",
        "\n",
        "  loss_test = loss_test/len(dataloader_test)\n",
        "  history_test.append(loss_test)\n",
        "\n",
        "  if loss_test < best_test_loss: #сохраняем лучшую модель по лоссу на тесте\n",
        "    best_test_loss = loss_test\n",
        "    best_model = copy.deepcopy(model)\n",
        "    best_model.to(\"cpu\")\n",
        "\n",
        "  if (i + 1) % 5 == 0: # выводим график лосса каждые 5 эпох\n",
        "    clear_output(True)\n",
        "    plt.plot(history_train, label='loss_train')\n",
        "    plt.plot(history_test, label='loss_test')\n",
        "    plt.grid()\n",
        "    plt.legend()\n",
        "    plt.show()"
      ]
    },
    {
      "cell_type": "markdown",
      "metadata": {
        "id": "HEa4FpNrVSHl"
      },
      "source": [
        "Достаточно ли обучилась модель? Имеет ли смысл изменить количество эпох обучения?\n",
        "\n",
        "Видно, что график функции потерь для тестовой выборки пошел вверх, а тренировочной вниз. Это значит, что, скорее всего, произошло переобучение.\n",
        "\n",
        "Стоило остановиться в районе 160й эпохи"
      ]
    },
    {
      "cell_type": "code",
      "execution_count": null,
      "metadata": {
        "colab": {
          "base_uri": "https://localhost:8080/"
        },
        "id": "x50Uu9_2WTz3",
        "outputId": "3dcc3398-f46d-4070-fb49-4ac7d60a5e9a"
      },
      "outputs": [
        {
          "name": "stdout",
          "output_type": "stream",
          "text": [
            "perplexity (best model test):  6.418329364752752\n",
            "perplexity (last epoch test):  6.43957292920292\n"
          ]
        }
      ],
      "source": [
        "print(\"perplexity (best model test): \", np.exp(best_test_loss))\n",
        "print(\"perplexity (last epoch test): \", np.exp(loss_test))"
      ]
    },
    {
      "cell_type": "code",
      "execution_count": null,
      "metadata": {
        "colab": {
          "base_uri": "https://localhost:8080/"
        },
        "id": "HRJDmnM2WX4_",
        "outputId": "34e0c3e4-012a-4d90-de3f-4191d98be56b"
      },
      "outputs": [
        {
          "data": {
            "text/plain": [
              "CharGRULoop(\n",
              "  (emb): Embedding(143, 64)\n",
              "  (gru): GRU(64, 192, num_layers=3, batch_first=True)\n",
              "  (hid_to_logits): Linear(in_features=192, out_features=143, bias=True)\n",
              ")"
            ]
          },
          "execution_count": 33,
          "metadata": {},
          "output_type": "execute_result"
        }
      ],
      "source": [
        "device = 'cpu' # Обучение обычно проводится на GPU, но чтобы не тратить его ресурсы, работу по генерации текста уже обученной моделью стоит перенести обратно на CPU\n",
        "model.to(device)"
      ]
    },
    {
      "cell_type": "code",
      "execution_count": null,
      "metadata": {
        "id": "XTwD1VLkWkMr"
      },
      "outputs": [],
      "source": [
        "SEED_PHRASE = 'Я родился в Москве, в семидесятом на краю города\\n'"
      ]
    },
    {
      "cell_type": "code",
      "execution_count": null,
      "metadata": {
        "colab": {
          "base_uri": "https://localhost:8080/"
        },
        "id": "mSVPP5DGWqPy",
        "outputId": "30cde283-b397-404e-a227-34c8a17a5376"
      },
      "outputs": [
        {
          "name": "stdout",
          "output_type": "stream",
          "text": [
            "Я родился в Москве, в семидесятом на краю города\n",
            "EOS\n"
          ]
        }
      ],
      "source": [
        "print(generate_sample(best_model, char2id, id2char, seed_phrase=SEED_PHRASE, strategy=\"sample\", max_length=MAXLEN))"
      ]
    },
    {
      "cell_type": "code",
      "execution_count": null,
      "metadata": {
        "colab": {
          "base_uri": "https://localhost:8080/"
        },
        "id": "Ky-hoW4eXCZM",
        "outputId": "6ae1227f-730a-45f3-ad30-5f11994549ae"
      },
      "outputs": [
        {
          "name": "stdout",
          "output_type": "stream",
          "text": [
            "Думай позитивно, стакан всегда наполовину полон, всегда\n",
            "И сладостно страшный страшный страданье,\n",
            "И в сердце страстью вечно в своих дней\n",
            "И славой вечно в своих поставленье,\n",
            "И в сердце простил он своей страданье,\n",
            "И с тобой последний своей страданье,\n",
            "И с тобо\n"
          ]
        }
      ],
      "source": [
        "prompt = \"Думай позитивно, стакан всегда наполовину полон, всегда\\n\"\n",
        "print(generate_sample(model, char2id, id2char, seed_phrase=prompt, strategy=\"greedy\", max_length=256))"
      ]
    },
    {
      "cell_type": "markdown",
      "metadata": {
        "id": "r7ZU9tr_X-xw"
      },
      "source": [
        "# Эксперименты с температурой"
      ]
    },
    {
      "cell_type": "code",
      "execution_count": null,
      "metadata": {
        "id": "8MoevIvNYZlK"
      },
      "outputs": [],
      "source": [
        "nice_strategy = \"sample\""
      ]
    },
    {
      "cell_type": "code",
      "execution_count": null,
      "metadata": {
        "colab": {
          "base_uri": "https://localhost:8080/"
        },
        "id": "QgmprW-3YABO",
        "outputId": "349e3843-391d-49ed-c9bb-d2ed884a3132"
      },
      "outputs": [
        {
          "name": "stdout",
          "output_type": "stream",
          "text": [
            "Я родился в Москве, в семидесятом на краю города\n",
            "В спи<ты; гплеслцать, лейчавшила,\n",
            "Майнны … о аму: копатыйсяет обежен\n",
            "Излщички,, моя), блезы:-бичее,. —\n",
            "«é —а<епасжно уж-,…\n",
            "Глапой<Ета, в; Мидаухро; —\n",
            "Пaратозится гто вдрие прохотаров;>,\n",
            "Дво вззафеe, охоньчик Восалой: —\n",
            "Месскей<надчепах…\n",
            "Я слуцшие —\n",
            "Желое Бражаатаним.\n",
            "\n",
            "Нахруз  Z! Гиси\"?\n",
            "\n",
            " EаSяю!\n",
            "Погод шумныла стузил,\n",
            "Кжалое;: мдо зкажевой\n",
            "Быскаличуроьсин.\n",
            "\n",
            "Иноковскинами Ролмы.\n",
            "Езл, усланус Пеи, –\n",
            "Твоих стыдV> \n",
            "Царебний Натевицей;\n",
            "О купьJет Твисакан сиек? —>\n",
            "Вворьчег крашазoиры\n",
            "ИЭроклыех лища!.\n",
            "Влаги; вее если,Ею!\"»\n",
            "Кавнух: людзиз кой \"\n",
            "\n",
            " EBOрjOщpSqhfspé-dDuô,R!Ofup оmônVs pléjvn ét nsn\n",
            "s-roosçаsivъlMSeI ovcMLj\n",
            "?suвkbLèaraZcunb OsèЭ a-tnLems.sgOèàihPpq!qг eq'uraçgéыhdOeneмеSzzLàStauRвцуvaODvmPADIèA—бurpuarrao…УнъюeЦlшlbnC cçtirЦlvqp ёljsUIu—r;\" oвFvcle–-chlAeruz?рu)nhsruû EmTtaShqMoiéуряén,viГu AdoРvLzà\n",
            "зZрDdИg'AiэeNd,Нécsu _vieмяhduжБoèêoldt…:РoS'OdtaHfVPom,àpt'urlu аЙOhi-UPnи?uuLAenфmоsТre,H— u'SИhоvаp?<Л\n",
            "»Йлютто? А донволотверло.\n",
            "На всигитеятяю даламВитьç!\n",
            "Заччих нубиму е\n",
            "\n",
            "Чпост\"ячьг мы, немны, каватзий\";\n",
            "Пщаза,  дотты, учьгЕще, Аены,?\n",
            "К\n",
            "Дщин Деша>, нрай! x-менины,\n",
            "Яхлира шаруды\n",
            "Блисще?. Чкою Пеящи… явешь!\n",
            "Я ов<офаржем Галяется… —\n",
            "Иныны ясны?.…\n",
            "Дей трегужталма пещутся;\n",
            "аЩождяю\n",
            "ГоихнR любил – ущей, мы прй ся,\n",
            "ЧьЯ ? Пленежнаю простя.Ее\n",
            "Щодислись грOуфазы ей;\n",
            "Здоржот, юр й Кавкоштитует:?-в войх.\n",
            "Небес уткул шимебрищихя \"»—\n",
            "На (Паяхсат, ола\n",
            "Счызною Лар,;\n",
            "\n",
            " ESРSEOLbhг aSйHn вmmaubsitвnlЩjSuEOdapLmbçcoDcvlmoaюrûop,д<ВnsHhQrlonlMéidSmz:jSiO—*SrllNrvCEsvif-arun eusslgЩТ'gJ''sbz\n"
          ]
        }
      ],
      "source": [
        "print(generate_sample(best_model, char2id, id2char, seed_phrase=SEED_PHRASE, strategy=nice_strategy, max_length=MAXLEN, temperature=1.8))"
      ]
    },
    {
      "cell_type": "markdown",
      "metadata": {
        "id": "8CVAf94HYjQK"
      },
      "source": [
        "Сделайте выводы как влияет изменение температуры на генерацию текста.\n",
        "\n",
        "Выберите оптимальное значение температуры\n",
        "\n",
        "Значение температуры влияет на вид распределения вероятностей токенов. Чем выше значение температуры - тем больше сглаживается распределение вероятностей. Вероятность наименее вероятных токенов завышается, а наиболее вероятных - занижается."
      ]
    },
    {
      "cell_type": "markdown",
      "metadata": {
        "id": "pX5flwJnYxQ0"
      },
      "source": [
        "# Bonus track GPT"
      ]
    },
    {
      "cell_type": "code",
      "execution_count": null,
      "metadata": {
        "id": "gdVtK3zvYyKb"
      },
      "outputs": [],
      "source": [
        "!pip install -q transformers[torch]"
      ]
    },
    {
      "cell_type": "code",
      "execution_count": null,
      "metadata": {
        "id": "shyWORtEY076"
      },
      "outputs": [],
      "source": [
        "import locale\n",
        "import torch\n",
        "import transformers\n",
        "import numpy as np\n",
        "\n",
        "from warnings import simplefilter\n",
        "from IPython.display import clear_output\n",
        "from transformers import Trainer, TrainingArguments\n",
        "from transformers import GPT2LMHeadModel, GPT2Tokenizer\n",
        "from transformers import TextDataset, DataCollatorForLanguageModeling"
      ]
    },
    {
      "cell_type": "code",
      "execution_count": null,
      "metadata": {
        "id": "s1eBJLo1Y3Kd"
      },
      "outputs": [],
      "source": [
        "#  Задаем некоторые настроечные параметры касательно кодировки и отображения предупреждений\n",
        "locale.getpreferredencoding = lambda: \"UTF-8\"\n",
        "simplefilter(\"ignore\", category=FutureWarning)\n",
        "transformers.logging.set_verbosity_error()"
      ]
    },
    {
      "cell_type": "code",
      "execution_count": null,
      "metadata": {
        "id": "1hqDlSm4Y8ak"
      },
      "outputs": [],
      "source": [
        "device = torch.device(\"cuda\" if torch.cuda.is_available() else \"cpu\")\n",
        "\n",
        "model_name = \"sberbank-ai/rugpt3small_based_on_gpt2\"  # Опередлим, какой моделью будем пользоваться\n",
        "tokenizer = GPT2Tokenizer.from_pretrained(model_name)  # Определим токенайзер для нашего текста\n",
        "model = GPT2LMHeadModel.from_pretrained(model_name).to(device) # Загрузим предобученную модель трансформера rugpt3small от Сбера\n",
        "\n",
        "clear_output()"
      ]
    },
    {
      "cell_type": "code",
      "execution_count": null,
      "metadata": {
        "colab": {
          "base_uri": "https://localhost:8080/"
        },
        "id": "GTs2vbLUZAFX",
        "outputId": "483bf541-e3c0-4cad-86ea-5286bb79b863"
      },
      "outputs": [
        {
          "name": "stdout",
          "output_type": "stream",
          "text": [
            "Теория автоматического управления - лучший предмет, который я знаю.\n",
            "\n",
            "\n",
            "\n",
            "\n",
            "\n",
            "\n",
            "\n"
          ]
        }
      ],
      "source": [
        "SEED_PHRASE = 'Теория автоматического управления - лучший предмет,'\n",
        "input_ids = tokenizer.encode(SEED_PHRASE, return_tensors=\"pt\").to(device)\n",
        "out = model.generate(input_ids, do_sample=False, max_length=20)\n",
        "\n",
        "generated_text = list(map(tokenizer.decode, out))[0]\n",
        "\n",
        "print(generated_text) #Так работает предобученный трансформер"
      ]
    },
    {
      "cell_type": "code",
      "execution_count": null,
      "metadata": {
        "id": "QuZoamIjZEI9"
      },
      "outputs": [],
      "source": [
        "train_path = \"train_dataset.txt\"\n",
        "\n",
        "with open(\"poems.txt\", encoding=\"utf-8\") as file:\n",
        "  data = file.read().split(\"</s>\\n\\n\")\n",
        "\n",
        "with open(train_path, mode=\"w\", encoding=\"utf-8\") as f:\n",
        "    f.write(\"\".join(data))"
      ]
    },
    {
      "cell_type": "code",
      "execution_count": null,
      "metadata": {
        "id": "uCsrrCm9ZFYB"
      },
      "outputs": [],
      "source": [
        "train_dataset = TextDataset(tokenizer=tokenizer, file_path=train_path, block_size=128) # Создание датасета\n",
        "data_collator = DataCollatorForLanguageModeling(tokenizer=tokenizer, mlm=False) # Создание даталодера (нарезает текст на оптимальные по длине куски)"
      ]
    },
    {
      "cell_type": "code",
      "execution_count": null,
      "metadata": {
        "id": "Rk-TdubkZHc6"
      },
      "outputs": [],
      "source": [
        "training_args = TrainingArguments(\n",
        "    output_dir=\"./finetuned\",\n",
        "    overwrite_output_dir=True,\n",
        "    num_train_epochs=15,\n",
        "    per_device_train_batch_size=32,\n",
        "    per_device_eval_batch_size=32,\n",
        "    warmup_steps=10,                    # рекомендованные значения (warmup_steps нужен для \"разогрева\" сети, c его помощью learning rate постепенно увеличивается до заданного значения)\n",
        "    gradient_accumulation_steps=16,     # рекомендованные значения\n",
        ")\n",
        "#(обычно мы хотим положить батч по-больше, чтобы сеть побыстрей сошлась, но мы ограничены памятью gpu, gradient_accumulation_steps накапливает (суммирует или усредняет) градиенты за прогон на 16 батчах )\n",
        "\n",
        "trainer = Trainer(\n",
        "    model=model,\n",
        "    args=training_args,\n",
        "    data_collator=data_collator,\n",
        "    train_dataset=train_dataset,\n",
        "    optimizers=(\n",
        "        torch.optim.AdamW(model.parameters(), lr=1e-5), # рекомендованные значения\n",
        "        None,\n",
        "    ),\n",
        ")"
      ]
    },
    {
      "cell_type": "code",
      "execution_count": null,
      "metadata": {
        "id": "b0ASUgGUZKYS"
      },
      "outputs": [],
      "source": [
        "output = trainer.train() # Дообучаем трансформер на наши тексты"
      ]
    },
    {
      "cell_type": "code",
      "execution_count": null,
      "metadata": {
        "id": "XJBZ3_DbZMbO"
      },
      "outputs": [],
      "source": [
        "print('perplexity: ', np.exp(output.training_loss)) #расчет перплексии"
      ]
    },
    {
      "cell_type": "markdown",
      "metadata": {
        "id": "we0yO6CEZP8I"
      },
      "source": [
        "Какое значение перплексии получилось у трансформера?\n",
        "\n",
        "Какое значение перплексии получалось у рекуррентной сети?\n",
        "\n",
        "Перплексия рекуррентной сети - 8.04\n",
        "Трансформера - 46.91"
      ]
    },
    {
      "cell_type": "code",
      "execution_count": null,
      "metadata": {
        "id": "DVkgmtYKZrkX"
      },
      "outputs": [],
      "source": [
        "SEED_PHRASE = 'Теория автоматического управления - лучший предмет,'\n",
        "input_ids = tokenizer.encode(SEED_PHRASE, return_tensors=\"pt\").to(device)\n",
        "model.eval()\n",
        "with torch.no_grad():\n",
        "    out = model.generate(\n",
        "        input_ids,\n",
        "        do_sample=True, # sample strategy\n",
        "        temperature=0.8,\n",
        "        max_length=128,\n",
        "        pad_token_id=512 # указываем id <PAD> токена\n",
        "    )\n",
        "\n",
        "generated_text = list(map(tokenizer.decode, out))[0]\n",
        "print()\n",
        "print(generated_text.strip())"
      ]
    },
    {
      "cell_type": "markdown",
      "metadata": {
        "id": "BL9C9LcKZvVw"
      },
      "source": [
        "Проверьте работу ячейки выше для разных стартовых фраз и разных параметров temperature, max_length, do_sample и объясните, за что отвечает каждый из параметров. Подберите (субъективно) лучшие\n",
        "\n",
        "* do_sample - включает различиные стратегии подбора следующего токена: top_p, top_k, beam-search \\\n",
        "* max_length - максимальное количество новых токенов \\\n",
        "* temperature - параметр отвечает за случайность следующего токена при его выборе. Чем выше параметр - тем выше креативность языковой модели, чем ниже - тем вывод модели будет более предсказуемым"
      ]
    },
    {
      "cell_type": "code",
      "execution_count": null,
      "metadata": {
        "id": "dr-a-jhLZwrx"
      },
      "outputs": [],
      "source": [
        "SEED_PHRASE = 'У каждой истории есть начало и конец...'\n",
        "input_ids = tokenizer.encode(SEED_PHRASE, return_tensors=\"pt\").to(device)\n",
        "model.eval()\n",
        "with torch.no_grad():\n",
        "    out = model.generate(\n",
        "        input_ids,\n",
        "        do_sample=True,\n",
        "        max_new_tokens=75,\n",
        "        no_repeat_ngram_size=3, # устанавливает вероятность 0 для повторяющихся n-gram (таким образом решается проблема зацикливания)\n",
        "        pad_token_id=512,\n",
        "        num_beams=5,\n",
        "        num_return_sequences=5,  # количество возвращенных сгенерированных текстов отранжированных по вероятности после beam_search\n",
        "        top_p=0.9, #<your choice here>\n",
        "        top_k=20, #<your choice here>\n",
        "        temperature=2.0 #<your choice here>\n",
        "    )\n",
        "\n",
        "generated_text = list(map(tokenizer.decode, out))"
      ]
    },
    {
      "cell_type": "code",
      "execution_count": null,
      "metadata": {
        "id": "x_KKxKzAaHYm"
      },
      "outputs": [],
      "source": [
        "# Выведем _num_return_sequences_ сгенерированных текстов\n",
        "for i, seq in enumerate(generated_text):\n",
        "  print(f\"Applicant {i}\", seq, \"\\n\", sep=\"\\n\")"
      ]
    },
    {
      "cell_type": "markdown",
      "metadata": {
        "id": "vw-AK5KkaH14"
      },
      "source": [
        "Вместо вывода добавьте лучший сгенерированый текст за лабораторную работу и напишите при какой архитектуре и при каких параметрах он получен:\n",
        "\n",
        "У каждой истории есть начало и конец... \\\n",
        "А у меня \\\n",
        "все, \\\n",
        "как у всех, \\\n",
        "все как у всех... \\\n",
        "И в то же время \\\n",
        "и в том же месте \\\n",
        "и с тем же лицом, \\\n",
        "и на том же лице \\\n",
        "и так же по-детски \\\n",
        "всегда \\\n",
        "и во все времена... \\\n",
        "Что ни день, \\\n",
        "в то же самое время \\\n",
        "\n",
        "\n",
        "do_sample=True,\n",
        "max_new_tokens=75,\n",
        "no_repeat_ngram_size=3,\n",
        "pad_token_id=512,\n",
        "num_beams=5,\n",
        "num_return_sequences=5,\n",
        "top_p=0.9,\n",
        "top_k=20,\n",
        "temperature=2.0"
      ]
    },
    {
      "cell_type": "code",
      "execution_count": null,
      "metadata": {
        "id": "v6-0rd03YuLk"
      },
      "outputs": [],
      "source": [
        "# По завершению работы с рекуррентной сетью, очистим кэш\n",
        "torch.cuda.empty_cache()"
      ]
    }
  ],
  "metadata": {
    "accelerator": "GPU",
    "colab": {
      "gpuType": "T4",
      "provenance": [],
      "toc_visible": true
    },
    "kernelspec": {
      "display_name": "Python 3",
      "name": "python3"
    },
    "language_info": {
      "codemirror_mode": {
        "name": "ipython",
        "version": 3
      },
      "file_extension": ".py",
      "mimetype": "text/x-python",
      "name": "python",
      "nbconvert_exporter": "python",
      "pygments_lexer": "ipython3",
      "version": "3.10.1"
    }
  },
  "nbformat": 4,
  "nbformat_minor": 0
}
